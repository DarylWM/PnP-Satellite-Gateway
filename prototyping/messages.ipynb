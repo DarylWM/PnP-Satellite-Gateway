{
 "cells": [
  {
   "cell_type": "code",
   "execution_count": 6,
   "id": "consistent-arbitration",
   "metadata": {},
   "outputs": [],
   "source": [
    "import hashlib"
   ]
  },
  {
   "cell_type": "code",
   "execution_count": 7,
   "id": "subjective-patent",
   "metadata": {},
   "outputs": [],
   "source": [
    "cheap_hash = lambda input: hashlib.md5(input).hexdigest()[:10]"
   ]
  },
  {
   "cell_type": "code",
   "execution_count": 13,
   "id": "scheduled-gateway",
   "metadata": {},
   "outputs": [
    {
     "data": {
      "text/plain": [
       "'33907c1455'"
      ]
     },
     "execution_count": 13,
     "metadata": {},
     "output_type": "execute_result"
    }
   ],
   "source": [
    "cheap_hash('ronny@gmail.com'.encode('utf-8'))"
   ]
  }
 ],
 "metadata": {
  "kernelspec": {
   "display_name": "Python 3",
   "language": "python",
   "name": "python3"
  },
  "language_info": {
   "codemirror_mode": {
    "name": "ipython",
    "version": 3
   },
   "file_extension": ".py",
   "mimetype": "text/x-python",
   "name": "python",
   "nbconvert_exporter": "python",
   "pygments_lexer": "ipython3",
   "version": "3.8.8"
  }
 },
 "nbformat": 4,
 "nbformat_minor": 5
}
